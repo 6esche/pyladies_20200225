{
 "cells": [
  {
   "cell_type": "markdown",
   "metadata": {},
   "source": [
    "# Setup"
   ]
  },
  {
   "cell_type": "code",
   "execution_count": null,
   "metadata": {},
   "outputs": [],
   "source": [
    "import numpy as np\n",
    "import pandas as pd\n",
    "pd.set_option('display.max_columns', 200)\n",
    "pd.set_option('display.max_rows', 200)\n",
    "pd.options.display.max_colwidth=300\n",
    "import matplotlib.pyplot as plt\n",
    "%matplotlib inline\n",
    "import seaborn as sns"
   ]
  },
  {
   "cell_type": "code",
   "execution_count": null,
   "metadata": {},
   "outputs": [],
   "source": [
    "colors = ['r', 'b']\n",
    "colors_3 = ['r', 'b', '#808080']\n",
    "colorm = ['C2', 'gold', 'darkorange', 'orchid', 'c', 'C7', 'C6', 'C5', 'C9', 'm', 'g', 'y', 'dimgrey']"
   ]
  },
  {
   "cell_type": "code",
   "execution_count": null,
   "metadata": {},
   "outputs": [],
   "source": [
    "plt.rc('font', size=16)"
   ]
  },
  {
   "cell_type": "markdown",
   "metadata": {},
   "source": [
    "# Reading Data"
   ]
  },
  {
   "cell_type": "markdown",
   "metadata": {},
   "source": [
    "Cooperative Congressional Election Survey (CCES) 2016 <br>\n",
    "https://dataverse.harvard.edu/dataset.xhtml?persistentId=doi%3A10.7910/DVN/GDF6Z0"
   ]
  },
  {
   "cell_type": "code",
   "execution_count": null,
   "metadata": {},
   "outputs": [],
   "source": [
    "cces = pd.io.stata.StataReader('CCES16_Common_OUTPUT_Feb2018_VV.dta')\n",
    "df = cces.read(convert_categoricals=False) # categorical variables are coded with integers"
   ]
  },
  {
   "cell_type": "code",
   "execution_count": null,
   "metadata": {},
   "outputs": [],
   "source": [
    "cces = pd.io.stata.StataReader('CCES16_Common_OUTPUT_Feb2018_VV.dta')\n",
    "dfc = cces.read(convert_categoricals=True) # categorical variables are coded with strings"
   ]
  },
  {
   "cell_type": "code",
   "execution_count": null,
   "metadata": {},
   "outputs": [],
   "source": [
    "df.shape"
   ]
  },
  {
   "cell_type": "code",
   "execution_count": null,
   "metadata": {},
   "outputs": [],
   "source": [
    "var_label = cces.variable_labels()\n",
    "var_label"
   ]
  },
  {
   "cell_type": "code",
   "execution_count": null,
   "metadata": {},
   "outputs": [],
   "source": [
    "# some systematic overview\n",
    "\n",
    "v_dem = ['birthyr', 'gender', 'educ', 'race', 'immstat', 'CC16_361', 'citylength_1',\n",
    "         'employ', 'hadjob', 'industryclass', 'ownhome', 'faminc', 'investor', 'edloan',\n",
    "         'child18', 'child18num', 'marstat',\n",
    "         'pew_bornagain', 'pew_religimp', 'pew_churatd', 'pew_prayer', 'religpew',\n",
    "         'milstat_1', 'milstat_2', 'milstat_3', 'milstat_4', 'milstat_5',\n",
    "         'union', 'unionhh', 'newsint', 'internethome',\n",
    "         'healthins_1', 'healthins_2', 'healthins_3', 'healthins_4', 'healthins_5', 'healthins_6']\n",
    "\n",
    "v_perception = ['CC16_302', 'CC16_304',\n",
    "                'CC16_427_a', 'CC16_427_b', 'CC16_427_c', 'CC16_427_d', 'CC16_427_e', 'CC16_427_f']\n",
    "\n",
    "v_past_four = ['CC16_303', 'CC16_305_1', 'CC16_305_2', 'CC16_305_3', 'CC16_305_4', 'CC16_305_5',\n",
    "                  'CC16_305_6', 'CC16_305_7', 'CC16_305_8', 'CC16_305_9', 'CC16_305_10', 'CC16_305_11']\n",
    "\n",
    "v_opinion = ['CC16_307', 'CC16_330a', 'CC16_330b', 'CC16_330d', 'CC16_330e',\n",
    "             'CC16_331_1', 'CC16_331_2', 'CC16_331_3', 'CC16_331_7', 'CC16_331_9',\n",
    "             'CC16_332a', 'CC16_332b', 'CC16_332c', 'CC16_332d', 'CC16_332e', 'CC16_332f',\n",
    "             'CC16_333a', 'CC16_333b', 'CC16_333c', 'CC16_333d',\n",
    "             'CC16_334a', 'CC16_334b', 'CC16_334c', 'CC16_334d', 'CC16_335',\n",
    "             'CC16_337_1', 'CC16_337_2', 'CC16_337_3',\n",
    "             'CC16_351B', 'CC16_351E', 'CC16_351F', 'CC16_351G', 'CC16_351H', 'CC16_351I', 'CC16_351K',\n",
    "             'CC16_414_1', 'CC16_414_2', 'CC16_414_3', 'CC16_414_4', 'CC16_414_5', 'CC16_414_6', 'CC16_414_7',\n",
    "             'CC16_415r', 'CC16_416r', 'CC16_422c', 'CC16_422d', 'CC16_422e', 'CC16_422f',\n",
    "             'CC16_426_1', 'CC16_426_2', 'CC16_426_3', 'CC16_426_4', 'CC16_426_5']"
   ]
  },
  {
   "cell_type": "code",
   "execution_count": null,
   "metadata": {},
   "outputs": [],
   "source": [
    "var_label.get('CC16_302')"
   ]
  },
  {
   "cell_type": "code",
   "execution_count": null,
   "metadata": {},
   "outputs": [],
   "source": [
    "dfc[v_dem].head(3)"
   ]
  },
  {
   "cell_type": "code",
   "execution_count": null,
   "metadata": {},
   "outputs": [],
   "source": [
    "df[v_dem].head()"
   ]
  },
  {
   "cell_type": "markdown",
   "metadata": {},
   "source": [
    "# Unweighted Data"
   ]
  },
  {
   "cell_type": "markdown",
   "metadata": {},
   "source": [
    "## Labeled"
   ]
  },
  {
   "cell_type": "markdown",
   "metadata": {},
   "source": [
    "dataset with numerical variables (df)"
   ]
  },
  {
   "cell_type": "code",
   "execution_count": null,
   "metadata": {},
   "outputs": [],
   "source": [
    "var_label.get('CC16_410a')"
   ]
  },
  {
   "cell_type": "code",
   "execution_count": null,
   "metadata": {},
   "outputs": [],
   "source": [
    "df.CC16_410a.value_counts().sort_index()"
   ]
  },
  {
   "cell_type": "code",
   "execution_count": null,
   "metadata": {},
   "outputs": [],
   "source": [
    "value_labels = cces.value_labels()\n",
    "value_labels"
   ]
  },
  {
   "cell_type": "code",
   "execution_count": null,
   "metadata": {},
   "outputs": [],
   "source": [
    "var_values = cces.lbllist\n",
    "var_values"
   ]
  },
  {
   "cell_type": "code",
   "execution_count": null,
   "metadata": {},
   "outputs": [],
   "source": [
    "value_labels.get(var_values[df.columns.get_loc('CC16_410a')])"
   ]
  },
  {
   "cell_type": "code",
   "execution_count": null,
   "metadata": {},
   "outputs": [],
   "source": [
    "# create variable with vote (Trump - Clinton - Other)\n",
    "\n",
    "df = df.assign(vote=df.CC16_410a)\n",
    "df.vote.replace([4, 5, 8], 3, inplace=True)\n",
    "df.vote.replace([6, 7, 98, 99], np.nan, inplace=True)"
   ]
  },
  {
   "cell_type": "code",
   "execution_count": null,
   "metadata": {},
   "outputs": [],
   "source": [
    "vote_label = {1: 'Trump', 2: 'Clinton', 3: 'Other'}\n",
    "df.vote.map(vote_label).value_counts().reindex(vote_label.values())"
   ]
  },
  {
   "cell_type": "code",
   "execution_count": null,
   "metadata": {},
   "outputs": [],
   "source": [
    "# Level of Education (educ)\n",
    "\n",
    "df.educ.map(value_labels.get(var_values[df.columns.get_loc('educ')])).value_counts().reindex(value_labels.get(var_values[df.columns.get_loc('educ')]).values())"
   ]
  },
  {
   "cell_type": "code",
   "execution_count": null,
   "metadata": {},
   "outputs": [],
   "source": [
    "# Religion (religpew)\n",
    "\n",
    "df.religpew.map(value_labels.get(var_values[df.columns.get_loc('religpew')])).value_counts()"
   ]
  },
  {
   "cell_type": "code",
   "execution_count": null,
   "metadata": {},
   "outputs": [],
   "source": [
    "# Perception of National Economy in past year\n",
    "\n",
    "print(var_label.get('CC16_302'))\n",
    "display(df.CC16_302.value_counts().sort_index())\n",
    "df.CC16_302.map(value_labels.get(var_values[df.columns.get_loc('CC16_302')])).value_counts().reindex(value_labels.get(var_values[df.columns.get_loc('CC16_302')]).values())"
   ]
  },
  {
   "cell_type": "markdown",
   "metadata": {},
   "source": [
    "---\n",
    "\n",
    "--> Pick two to four variables of your interest and inspect labels and distribution. Have a look at the codebook!\n",
    "\n",
    "---"
   ]
  },
  {
   "cell_type": "markdown",
   "metadata": {},
   "source": [
    "## Categorical"
   ]
  },
  {
   "cell_type": "markdown",
   "metadata": {},
   "source": [
    "dataset with categorical variables (dfc)"
   ]
  },
  {
   "cell_type": "code",
   "execution_count": null,
   "metadata": {
    "scrolled": true
   },
   "outputs": [],
   "source": [
    "dfc.dtypes"
   ]
  },
  {
   "cell_type": "code",
   "execution_count": null,
   "metadata": {},
   "outputs": [],
   "source": [
    "dfc[v_dem].dtypes"
   ]
  },
  {
   "cell_type": "code",
   "execution_count": null,
   "metadata": {},
   "outputs": [],
   "source": [
    "dfc.CC16_410a.value_counts().sort_index() # mapping is not needed"
   ]
  },
  {
   "cell_type": "code",
   "execution_count": null,
   "metadata": {},
   "outputs": [],
   "source": [
    "dfc.CC16_410a.head() # note that categories should be unordered for this variable"
   ]
  },
  {
   "cell_type": "code",
   "execution_count": null,
   "metadata": {},
   "outputs": [],
   "source": [
    "# create vote variable like above\n",
    "\n",
    "dfc = dfc.assign(vote=dfc.CC16_410a)\n",
    "\n",
    "dfc.vote.replace(['Gary Johnson (Libertarian)', 'Jill Stein (Green)', 'Evan McMullin (Independent)'], 'Other', inplace=True)\n",
    "dfc.vote.cat.remove_categories([\"I didn't vote in this election\", \"I'm not sure\"], inplace=True)\n",
    "dfc.vote.cat.remove_unused_categories(inplace=True)\n",
    "dfc.vote.cat.rename_categories({'Donald Trump (Republican)': 'Trump', 'Hillary Clinton (Democrat)': 'Clinton'}, inplace=True)\n",
    "dfc.vote.cat.as_unordered(inplace=True)\n",
    "dfc.vote.value_counts().sort_index()"
   ]
  },
  {
   "cell_type": "code",
   "execution_count": null,
   "metadata": {},
   "outputs": [],
   "source": [
    "dfc.vote.dtype"
   ]
  },
  {
   "cell_type": "code",
   "execution_count": null,
   "metadata": {},
   "outputs": [],
   "source": [
    "dfc.educ.dtype"
   ]
  },
  {
   "cell_type": "code",
   "execution_count": null,
   "metadata": {},
   "outputs": [],
   "source": [
    "display(dfc.religpew.dtype)\n",
    "dfc.religpew.cat.as_unordered(inplace=True)"
   ]
  },
  {
   "cell_type": "code",
   "execution_count": null,
   "metadata": {},
   "outputs": [],
   "source": [
    "dfc.CC16_302.dtype"
   ]
  },
  {
   "cell_type": "code",
   "execution_count": null,
   "metadata": {},
   "outputs": [],
   "source": [
    "sns.catplot(x='vote', y='educ', kind='box', data=df)"
   ]
  },
  {
   "cell_type": "code",
   "execution_count": null,
   "metadata": {},
   "outputs": [],
   "source": [
    "sns.catplot(x='educ', y='birthyr', hue='vote', kind='box', data=df)"
   ]
  },
  {
   "cell_type": "code",
   "execution_count": null,
   "metadata": {},
   "outputs": [],
   "source": [
    "sns.catplot(x='vote', y='CC16_302', kind='violin', data=df)"
   ]
  },
  {
   "cell_type": "markdown",
   "metadata": {},
   "source": [
    "---\n",
    "\n",
    "Look for other categorical plots with seaborn and visualize the variables you chose above.\n",
    "\n",
    "---"
   ]
  },
  {
   "cell_type": "markdown",
   "metadata": {},
   "source": [
    "# weighted data"
   ]
  },
  {
   "cell_type": "markdown",
   "metadata": {},
   "source": [
    "## vote"
   ]
  },
  {
   "cell_type": "code",
   "execution_count": null,
   "metadata": {},
   "outputs": [],
   "source": [
    "dfc.vote.value_counts(normalize=True).sort_index()*100"
   ]
  },
  {
   "cell_type": "code",
   "execution_count": null,
   "metadata": {},
   "outputs": [],
   "source": [
    "plt.figure(figsize = (7,7))\n",
    "patches, texts, autotexts = plt.pie(dfc.vote.value_counts(normalize=True).sort_index(),\n",
    "        colors=colors_3, counterclock=False, startangle=90, autopct='%1.0f%%', labels=dfc.vote.cat.categories)\n",
    "for autotext in autotexts:\n",
    "    autotext.set_color('white')"
   ]
  },
  {
   "cell_type": "markdown",
   "metadata": {},
   "source": [
    "the popular vote 2016:\n",
    "- 46.2% for Trump --> large difference to frequency above (42%)\n",
    "- 48.2% for Clinton"
   ]
  },
  {
   "cell_type": "code",
   "execution_count": null,
   "metadata": {},
   "outputs": [],
   "source": [
    "print(dfc.commonweight_vv_post.sum()) # commonweight_vv_post: validated, post-election\n",
    "dfc[dfc.commonweight_vv_post.notna()].shape # sum of weights equals number of observations"
   ]
  },
  {
   "cell_type": "code",
   "execution_count": null,
   "metadata": {},
   "outputs": [],
   "source": [
    "# pivot-table, alternative groupby with weight\n",
    "display(pd.pivot_table(dfc, values='commonweight_vv_post', index='vote', aggfunc=sum)) # some error with categories\n",
    "dfc.vote.replace([\"I didn't vote in this election\", \"I'm not sure\"], np.nan, inplace=True)"
   ]
  },
  {
   "cell_type": "code",
   "execution_count": null,
   "metadata": {},
   "outputs": [],
   "source": [
    "pd.pivot_table(dfc, values='commonweight_vv_post', index='vote', aggfunc=sum)"
   ]
  },
  {
   "cell_type": "code",
   "execution_count": null,
   "metadata": {},
   "outputs": [],
   "source": [
    "plt.figure(figsize = (7,7))\n",
    "patches, texts, autotexts = plt.pie(pd.pivot_table(dfc, values='commonweight_vv_post', index='vote', aggfunc=sum),\n",
    "        colors=colors_3, counterclock=False, startangle=90, autopct='%1.0f%%', labels=vote_label.values())\n",
    "for autotext in autotexts:\n",
    "    autotext.set_color('white')"
   ]
  },
  {
   "cell_type": "code",
   "execution_count": null,
   "metadata": {},
   "outputs": [],
   "source": [
    "# relative frequencies\n",
    "\n",
    "totals = pd.pivot_table(dfc, values='commonweight_vv_post', index='vote', aggfunc=sum, margins=True)\n",
    "totals.div(totals.loc['All'], axis=1) *100"
   ]
  },
  {
   "cell_type": "markdown",
   "metadata": {},
   "source": [
    "## other variables"
   ]
  },
  {
   "cell_type": "code",
   "execution_count": null,
   "metadata": {},
   "outputs": [],
   "source": [
    "# education by level of education\n",
    "\n",
    "totals = pd.pivot_table(dfc, values='commonweight_vv_post', index='educ', columns='vote', aggfunc=sum, margins=True)\n",
    "totals.div(totals.loc['All'], axis=1) *100"
   ]
  },
  {
   "cell_type": "code",
   "execution_count": null,
   "metadata": {},
   "outputs": [],
   "source": [
    "# education by candidate\n",
    "\n",
    "totals.div(totals.All, axis=0) *100"
   ]
  },
  {
   "cell_type": "code",
   "execution_count": null,
   "metadata": {},
   "outputs": [],
   "source": [
    "def weighted_frequency(colm):\n",
    "    one = pd.pivot_table(dfc, values='commonweight_vv_post', index=colm, columns='vote', aggfunc=sum, margins=True)\n",
    "    return one\n",
    "\n",
    "def weighted_vote(colm):\n",
    "    one = weighted_frequency(colm)\n",
    "    pcol = one.div(one.All, axis=0) *100\n",
    "    return pcol\n",
    "\n",
    "def weighted_feature(colm):\n",
    "    one = weighted_frequency(colm)\n",
    "    prow = one.div(one.loc['All'], axis=1) *100\n",
    "    return prow"
   ]
  },
  {
   "cell_type": "code",
   "execution_count": null,
   "metadata": {},
   "outputs": [],
   "source": [
    "weighted_vote('religpew')"
   ]
  },
  {
   "cell_type": "code",
   "execution_count": null,
   "metadata": {},
   "outputs": [],
   "source": [
    "weighted_feature('religpew').sort_values('All')"
   ]
  },
  {
   "cell_type": "markdown",
   "metadata": {},
   "source": [
    "## Visualization"
   ]
  },
  {
   "cell_type": "code",
   "execution_count": null,
   "metadata": {},
   "outputs": [],
   "source": [
    "weighted_vote('educ').plot(kind='barh', stacked=True, color=colors_3, legend=False, xlim=(0,100), width=0.8, figsize=(8,5))\n",
    "plt.xlabel('Percentage')\n",
    "plt.ylabel('')"
   ]
  },
  {
   "cell_type": "code",
   "execution_count": null,
   "metadata": {},
   "outputs": [],
   "source": [
    "ax = weighted_feature('educ').iloc[:-1][['Other', 'Clinton', 'Trump', 'All']].transpose().plot(kind='barh', stacked=True, color=colorm, rot=360, ylim=(0,100), width=0.8, figsize=(8,5))\n",
    "ax.legend(loc='center left', bbox_to_anchor=(1.0, 0.5))"
   ]
  },
  {
   "cell_type": "code",
   "execution_count": null,
   "metadata": {},
   "outputs": [],
   "source": [
    "ax = weighted_feature('religpew').iloc[:-1].sort_values('All', ascending=False).transpose().plot(kind='bar', stacked=True, color=colorm, rot=360, ylim=(0,100), width=0.8, figsize=(8,5))\n",
    "handles, labels2 = ax.get_legend_handles_labels()\n",
    "ax.legend(reversed(handles), reversed(labels2), loc='center left', bbox_to_anchor=(1.0, 0.5))"
   ]
  },
  {
   "cell_type": "code",
   "execution_count": null,
   "metadata": {},
   "outputs": [],
   "source": [
    "ax = weighted_feature('CC16_302').iloc[:-1][['Other', 'Clinton', 'Trump', 'All']].transpose().plot(kind='barh', stacked=True, color=colorm, rot=360, ylim=(0,100), width=0.8, figsize=(8,5))\n",
    "ax.legend(loc='center left', bbox_to_anchor=(1.0, 0.5))"
   ]
  },
  {
   "cell_type": "markdown",
   "metadata": {},
   "source": [
    "---\n",
    "\n",
    "Calculate the relative frequencies according to the voting outcome and visualize them for the variables of your interest.\n",
    "\n",
    "---"
   ]
  },
  {
   "cell_type": "code",
   "execution_count": null,
   "metadata": {},
   "outputs": [],
   "source": []
  }
 ],
 "metadata": {
  "kernelspec": {
   "display_name": "Python 3",
   "language": "python",
   "name": "python3"
  },
  "language_info": {
   "codemirror_mode": {
    "name": "ipython",
    "version": 3
   },
   "file_extension": ".py",
   "mimetype": "text/x-python",
   "name": "python",
   "nbconvert_exporter": "python",
   "pygments_lexer": "ipython3",
   "version": "3.7.4"
  }
 },
 "nbformat": 4,
 "nbformat_minor": 2
}
